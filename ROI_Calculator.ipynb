{
  "nbformat": 4,
  "nbformat_minor": 0,
  "metadata": {
    "colab": {
      "provenance": [],
      "authorship_tag": "ABX9TyMzkF7cn/jMosujR+Bsn/xx",
      "include_colab_link": true
    },
    "kernelspec": {
      "name": "python3",
      "display_name": "Python 3"
    },
    "language_info": {
      "name": "python"
    }
  },
  "cells": [
    {
      "cell_type": "markdown",
      "metadata": {
        "id": "view-in-github",
        "colab_type": "text"
      },
      "source": [
        "<a href=\"https://colab.research.google.com/github/memery33/Showcase/blob/main/ROI_Calculator.ipynb\" target=\"_parent\"><img src=\"https://colab.research.google.com/assets/colab-badge.svg\" alt=\"Open In Colab\"/></a>"
      ]
    },
    {
      "cell_type": "markdown",
      "source": [
        "\n",
        "**Return on Investment (ROI) Calculator**\n",
        "\n",
        "This script provides an interactive ROI calculator using a simple graphical user interface (GUI).\n",
        "Users can input the amount of investment and the profit contribution to calculate the ROI.\n",
        "The ROI is displayed as a percentage, representing the profitability of the investment.\n",
        "\n",
        "**Features:**\n",
        "- Two input fields for entering the investment amount and the profit contribution.\n",
        "- A 'Calculate ROI' button to perform the calculation and display the result.\n",
        "- A 'Clear' button to reset the input fields and clear the result.\n",
        "\n",
        "The GUI is implemented using the ipywidgets library, making it suitable for use in Jupyter notebooks,\n",
        "including Google Colab. This allows for a seamless and interactive experience directly within the notebook environment.\n",
        "\n",
        "**Note:**\n",
        "\n",
        "This script assumes a basic understanding of investment and profit figures.\n",
        "It is important to enter numerical values without currency symbols or commas for accurate calculations."
      ],
      "metadata": {
        "id": "PGN82relk3Gu"
      }
    },
    {
      "cell_type": "code",
      "execution_count": null,
      "metadata": {
        "id": "vJ3ZdtwNkanl"
      },
      "outputs": [],
      "source": [
        "from ipywidgets import widgets, Layout, HBox, VBox\n",
        "from IPython.display import display, clear_output\n",
        "\n",
        "# Function to calculate ROI\n",
        "def calculate_roi(b):\n",
        "    try:\n",
        "        investment = float(investment_text.value)\n",
        "        profit_contribution = float(profit_text.value)\n",
        "        roi = (profit_contribution - investment) / investment\n",
        "        result_label.value = f\"Return on Investment (ROI): {roi}\"\n",
        "    except ValueError:\n",
        "        result_label.value = \"Please enter valid numbers for investment and profit contribution.\"\n",
        "\n",
        "# Function to clear the input fields and result label\n",
        "def clear_inputs(b):\n",
        "    investment_text.value = \"\"\n",
        "    profit_text.value = \"\"\n",
        "    result_label.value = \"\"\n",
        "\n",
        "# Define layout and style for the widgets\n",
        "style = {'description_width': 'initial'}\n",
        "input_layout = Layout(width='100%')\n",
        "button_layout = Layout(width='120px')\n",
        "\n",
        "# Text boxes for user input with the specified layout and style\n",
        "investment_text = widgets.Text(description='Investment ($):', style=style)\n",
        "profit_text = widgets.Text(description='Profit Contribution ($):', style=style)\n",
        "\n",
        "# Button for calculation and clearing\n",
        "calculate_button = widgets.Button(description='Calculate ROI', layout=button_layout)\n",
        "clear_button = widgets.Button(description='Clear', layout=button_layout)\n",
        "\n",
        "# Label for results\n",
        "result_label = widgets.Label()\n",
        "\n",
        "# Displaying the widgets in a box layout\n",
        "box_layout = Layout(display='flex', flex_flow='column', align_items='flex-start', width='100%')\n",
        "input_box = VBox([investment_text, profit_text], layout=box_layout)\n",
        "button_box = HBox([calculate_button, clear_button])\n",
        "output_box = VBox([button_box, result_label])\n",
        "\n",
        "display(input_box, output_box)\n",
        "\n",
        "# Linking the button to the calculation and clear function\n",
        "calculate_button.on_click(calculate_roi)\n",
        "clear_button.on_click(clear_inputs)"
      ]
    }
  ]
}